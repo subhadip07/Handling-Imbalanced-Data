{
  "nbformat": 4,
  "nbformat_minor": 0,
  "metadata": {
    "colab": {
      "provenance": []
    },
    "kernelspec": {
      "name": "python3",
      "display_name": "Python 3"
    },
    "language_info": {
      "name": "python"
    }
  },
  "cells": [
    {
      "cell_type": "code",
      "execution_count": null,
      "metadata": {
        "id": "408BSGUd1ROd"
      },
      "outputs": [],
      "source": [
        "import numpy as np\n",
        "import pandas as pd\n",
        "from sklearn.datasets import make_classification\n",
        "from sklearn.model_selection import train_test_split\n",
        "from sklearn.linear_model import LogisticRegression\n",
        "from sklearn.metrics import accuracy_score, classification_report, confusion_matrix\n",
        "import matplotlib.pyplot as plt\n",
        "\n",
        "# Create a synthetic dataset with a larger imbalance\n",
        "X, y = make_classification(\n",
        "    n_samples=100000,  # total number of samples\n",
        "    n_features=20,  # number of features\n",
        "    n_informative=2,  # number of informative features\n",
        "    n_redundant=10,  # number of redundant features\n",
        "    n_clusters_per_class=1,  # number of clusters per class\n",
        "    weights=[0.95, 0.05],  # class imbalance (95% majority, 5% minority)\n",
        "    flip_y=0,  # label noise\n",
        "    random_state=42  # reproducibility\n",
        ")"
      ]
    },
    {
      "cell_type": "code",
      "source": [
        "# Split into training and testing sets\n",
        "X_train, X_test, y_train, y_test = train_test_split(X, y, test_size=0.3, random_state=42)\n",
        "\n",
        "pd.Series(y_train).value_counts()"
      ],
      "metadata": {
        "colab": {
          "base_uri": "https://localhost:8080/"
        },
        "id": "6WEIKCI9971R",
        "outputId": "e532f278-c57e-4d26-a935-9776761f158e"
      },
      "execution_count": null,
      "outputs": [
        {
          "output_type": "execute_result",
          "data": {
            "text/plain": [
              "0    66515\n",
              "1     3485\n",
              "Name: count, dtype: int64"
            ]
          },
          "metadata": {},
          "execution_count": 18
        }
      ]
    },
    {
      "cell_type": "code",
      "source": [
        "# Train a simple logistic regression model\n",
        "model = LogisticRegression(solver='liblinear')\n",
        "model.fit(X_train, y_train)\n",
        "\n",
        "# Make predictions\n",
        "y_pred = model.predict(X_test)\n",
        "\n",
        "# Evaluate the model\n",
        "accuracy = accuracy_score(y_test, y_pred)\n",
        "confusion = confusion_matrix(y_test, y_pred)\n",
        "classification_report_str = classification_report(y_test, y_pred)"
      ],
      "metadata": {
        "id": "qhywSx6M3h7C"
      },
      "execution_count": null,
      "outputs": []
    },
    {
      "cell_type": "code",
      "source": [
        "# Display results\n",
        "print(\"Accuracy:\", accuracy)"
      ],
      "metadata": {
        "colab": {
          "base_uri": "https://localhost:8080/"
        },
        "id": "4UEtOUzS3v-N",
        "outputId": "d7e94bc1-0f00-48d8-b03d-c4c60fef75d9"
      },
      "execution_count": null,
      "outputs": [
        {
          "output_type": "stream",
          "name": "stdout",
          "text": [
            "Accuracy: 0.9879333333333333\n"
          ]
        }
      ]
    },
    {
      "cell_type": "code",
      "source": [
        "print(\"Classification Report:\\n\", classification_report_str)"
      ],
      "metadata": {
        "colab": {
          "base_uri": "https://localhost:8080/"
        },
        "id": "XSnc7bLd30ex",
        "outputId": "a069daf9-4e31-42d1-a7f5-209fe3537c47"
      },
      "execution_count": null,
      "outputs": [
        {
          "output_type": "stream",
          "name": "stdout",
          "text": [
            "Classification Report:\n",
            "               precision    recall  f1-score   support\n",
            "\n",
            "           0       0.99      1.00      0.99     28485\n",
            "           1       1.00      0.76      0.86      1515\n",
            "\n",
            "    accuracy                           0.99     30000\n",
            "   macro avg       0.99      0.88      0.93     30000\n",
            "weighted avg       0.99      0.99      0.99     30000\n",
            "\n"
          ]
        }
      ]
    },
    {
      "cell_type": "code",
      "source": [
        "# Plotting confusion matrix\n",
        "plt.matshow(confusion, cmap=plt.cm.Blues, alpha=0.3)\n",
        "for i in range(confusion.shape[0]):\n",
        "    for j in range(confusion.shape[1]):\n",
        "        plt.text(x=j, y=i, s=confusion[i, j], ha='center', va='center')\n",
        "\n",
        "plt.xlabel(\"Predicted label\")\n",
        "plt.ylabel(\"True label\")\n",
        "plt.title(\"Confusion Matrix\")\n",
        "plt.show()"
      ],
      "metadata": {
        "colab": {
          "base_uri": "https://localhost:8080/",
          "height": 479
        },
        "id": "Ej_tiBj932x_",
        "outputId": "bfa1b997-de6b-419a-d9d8-a0ac45ac0ee8"
      },
      "execution_count": null,
      "outputs": [
        {
          "output_type": "display_data",
          "data": {
            "text/plain": [
              "<Figure size 480x480 with 1 Axes>"
            ],
            "image/png": "[encoded data removed]"
          },
          "metadata": {}
        }
      ]
    },
    {
      "cell_type": "markdown",
      "source": [
        "### Random Undersampling"
      ],
      "metadata": {
        "id": "ojFp3rfGl-lc"
      }
    },
    {
      "cell_type": "code",
      "source": [
        "import pandas as pd\n",
        "from sklearn.datasets import make_classification\n",
        "from sklearn.utils import shuffle\n",
        "from collections import Counter\n",
        "\n",
        "# Create a synthetic dataset with imbalance\n",
        "X, y = make_classification(\n",
        "    n_samples=100000,\n",
        "    n_features=20,\n",
        "    weights=[0.95, 0.05],\n",
        "    random_state=42\n",
        ")\n",
        "\n",
        "# Create a DataFrame with the data\n",
        "df = pd.DataFrame(X)\n",
        "df['target'] = y\n",
        "\n"
      ],
      "metadata": {
        "id": "ZrmzXQ0l6YyF"
      },
      "execution_count": null,
      "outputs": []
    },
    {
      "cell_type": "code",
      "source": [
        "df.head()"
      ],
      "metadata": {
        "colab": {
          "base_uri": "https://localhost:8080/",
          "height": 255
        },
        "id": "DN6EO5lymple",
        "outputId": "64d485ed-3214-4c9a-d226-8ff5b93df228"
      },
      "execution_count": null,
      "outputs": [
        {
          "output_type": "execute_result",
          "data": {
            "text/plain": [
              "          0         1         2         3         4         5         6  \\\n",
              "0  0.328547 -1.384724 -0.284819 -0.030196 -0.840365 -1.012684 -1.297740   \n",
              "1  0.801869  2.390928 -1.232367  1.144513 -1.031983  0.742784 -1.287784   \n",
              "2 -0.674526 -0.261000 -0.464924 -1.495308 -1.888075  0.064322  0.541989   \n",
              "3 -1.188735  1.100929  0.818446 -0.573651 -0.777052  1.706128 -0.929116   \n",
              "4 -1.227908 -0.617620 -0.104353  0.986159 -0.763533  1.249342 -1.105068   \n",
              "\n",
              "          7         8         9  ...        11        12        13        14  \\\n",
              "0 -0.046200  0.744777 -1.843827  ... -0.653045  0.944825  0.732865 -0.198004   \n",
              "1 -0.639615 -1.332604 -0.708368  ... -0.969296 -0.338274  0.064910 -0.904066   \n",
              "2 -2.489174  1.023665 -2.289584  ... -1.666518  0.521572 -0.487614 -0.020727   \n",
              "3 -0.520684 -0.677726 -1.600877  ... -0.615035  0.062205  0.436514  1.303629   \n",
              "4 -0.516500 -2.200517 -1.589052  ... -0.602610 -1.186905 -1.399522 -0.721840   \n",
              "\n",
              "         15        16        17        18        19  target  \n",
              "0 -0.664024 -0.230734 -0.355199 -1.165488  2.073555       0  \n",
              "1 -0.245746  1.021368  0.074146  1.120685  1.605930       0  \n",
              "2  0.034012 -1.341455 -0.368306  0.420709  0.096521       0  \n",
              "3  1.340363 -1.203694 -0.568942 -0.907041 -0.460908       0  \n",
              "4  0.657838  0.139794 -0.212828 -0.917548 -1.022671       0  \n",
              "\n",
              "[5 rows x 21 columns]"
            ],
            "text/html": [
              "\n",
              "  <div id=\"df-9044047a-8844-43ef-b989-013d2d2ab41e\" class=\"colab-df-container\">\n",
              "    <div>\n",
              "<style scoped>\n",
              "    .dataframe tbody tr th:only-of-type {\n",
              "        vertical-align: middle;\n",
              "    }\n",
              "\n",
              "    .dataframe tbody tr th {\n",
              "        vertical-align: top;\n",
              "    }\n",
              "\n",
              "    .dataframe thead th {\n",
              "        text-align: right;\n",
              "    }\n",
              "</style>\n",
              "<table border=\"1\" class=\"dataframe\">\n",
              "  <thead>\n",
              "    <tr style=\"text-align: right;\">\n",
              "      <th></th>\n",
              "      <th>0</th>\n",
              "      <th>1</th>\n",
              "      <th>2</th>\n",
              "      <th>3</th>\n",
              "      <th>4</th>\n",
              "      <th>5</th>\n",
              "      <th>6</th>\n",
              "      <th>7</th>\n",
              "      <th>8</th>\n",
              "      <th>9</th>\n",
              "      <th>...</th>\n",
              "      <th>11</th>\n",
              "      <th>12</th>\n",
              "      <th>13</th>\n",
              "      <th>14</th>\n",
              "      <th>15</th>\n",
              "      <th>16</th>\n",
              "      <th>17</th>\n",
              "      <th>18</th>\n",
              "      <th>19</th>\n",
              "      <th>target</th>\n",
              "    </tr>\n",
              "  </thead>\n",
              "  <tbody>\n",
              "    <tr>\n",
              "      <th>0</th>\n",
              "      <td>0.328547</td>\n",
              "      <td>-1.384724</td>\n",
              "      <td>-0.284819</td>\n",
              "      <td>-0.030196</td>\n",
              "      <td>-0.840365</td>\n",
              "      <td>-1.012684</td>\n",
              "      <td>-1.297740</td>\n",
              "      <td>-0.046200</td>\n",
              "      <td>0.744777</td>\n",
              "      <td>-1.843827</td>\n",
              "      <td>...</td>\n",
              "      <td>-0.653045</td>\n",
              "      <td>0.944825</td>\n",
              "      <td>0.732865</td>\n",
              "      <td>-0.198004</td>\n",
              "      <td>-0.664024</td>\n",
              "      <td>-0.230734</td>\n",
              "      <td>-0.355199</td>\n",
              "      <td>-1.165488</td>\n",
              "      <td>2.073555</td>\n",
              "      <td>0</td>\n",
              "    </tr>\n",
              "    <tr>\n",
              "      <th>1</th>\n",
              "      <td>0.801869</td>\n",
              "      <td>2.390928</td>\n",
              "      <td>-1.232367</td>\n",
              "      <td>1.144513</td>\n",
              "      <td>-1.031983</td>\n",
              "      <td>0.742784</td>\n",
              "      <td>-1.287784</td>\n",
              "      <td>-0.639615</td>\n",
              "      <td>-1.332604</td>\n",
              "      <td>-0.708368</td>\n",
              "      <td>...</td>\n",
              "      <td>-0.969296</td>\n",
              "      <td>-0.338274</td>\n",
              "      <td>0.064910</td>\n",
              "      <td>-0.904066</td>\n",
              "      <td>-0.245746</td>\n",
              "      <td>1.021368</td>\n",
              "      <td>0.074146</td>\n",
              "      <td>1.120685</td>\n",
              "      <td>1.605930</td>\n",
              "      <td>0</td>\n",
              "    </tr>\n",
              "    <tr>\n",
              "      <th>2</th>\n",
              "      <td>-0.674526</td>\n",
              "      <td>-0.261000</td>\n",
              "      <td>-0.464924</td>\n",
              "      <td>-1.495308</td>\n",
              "      <td>-1.888075</td>\n",
              "      <td>0.064322</td>\n",
              "      <td>0.541989</td>\n",
              "      <td>-2.489174</td>\n",
              "      <td>1.023665</td>\n",
              "      <td>-2.289584</td>\n",
              "      <td>...</td>\n",
              "      <td>-1.666518</td>\n",
              "      <td>0.521572</td>\n",
              "      <td>-0.487614</td>\n",
              "      <td>-0.020727</td>\n",
              "      <td>0.034012</td>\n",
              "      <td>-1.341455</td>\n",
              "      <td>-0.368306</td>\n",
              "      <td>0.420709</td>\n",
              "      <td>0.096521</td>\n",
              "      <td>0</td>\n",
              "    </tr>\n",
              "    <tr>\n",
              "      <th>3</th>\n",
              "      <td>-1.188735</td>\n",
              "      <td>1.100929</td>\n",
              "      <td>0.818446</td>\n",
              "      <td>-0.573651</td>\n",
              "      <td>-0.777052</td>\n",
              "      <td>1.706128</td>\n",
              "      <td>-0.929116</td>\n",
              "      <td>-0.520684</td>\n",
              "      <td>-0.677726</td>\n",
              "      <td>-1.600877</td>\n",
              "      <td>...</td>\n",
              "      <td>-0.615035</td>\n",
              "      <td>0.062205</td>\n",
              "      <td>0.436514</td>\n",
              "      <td>1.303629</td>\n",
              "      <td>1.340363</td>\n",
              "      <td>-1.203694</td>\n",
              "      <td>-0.568942</td>\n",
              "      <td>-0.907041</td>\n",
              "      <td>-0.460908</td>\n",
              "      <td>0</td>\n",
              "    </tr>\n",
              "    <tr>\n",
              "      <th>4</th>\n",
              "      <td>-1.227908</td>\n",
              "      <td>-0.617620</td>\n",
              "      <td>-0.104353</td>\n",
              "      <td>0.986159</td>\n",
              "      <td>-0.763533</td>\n",
              "      <td>1.249342</td>\n",
              "      <td>-1.105068</td>\n",
              "      <td>-0.516500</td>\n",
              "      <td>-2.200517</td>\n",
              "      <td>-1.589052</td>\n",
              "      <td>...</td>\n",
              "      <td>-0.602610</td>\n",
              "      <td>-1.186905</td>\n",
              "      <td>-1.399522</td>\n",
              "      <td>-0.721840</td>\n",
              "      <td>0.657838</td>\n",
              "      <td>0.139794</td>\n",
              "      <td>-0.212828</td>\n",
              "      <td>-0.917548</td>\n",
              "      <td>-1.022671</td>\n",
              "      <td>0</td>\n",
              "    </tr>\n",
              "  </tbody>\n",
              "</table>\n",
              "<p>5 rows × 21 columns</p>\n",
              "</div>\n",
              "    <div class=\"colab-df-buttons\">\n",
              "\n",
              "  <div class=\"colab-df-container\">\n",
              "    <button class=\"colab-df-convert\" onclick=\"convertToInteractive('df-9044047a-8844-43ef-b989-013d2d2ab41e')\"\n",
              "            title=\"Convert this dataframe to an interactive table.\"\n",
              "            style=\"display:none;\">\n",
              "\n",
              "  <svg xmlns=\"http://www.w3.org/2000/svg\" height=\"24px\" viewBox=\"0 -960 960 960\">\n",
              "    <path d=\"M120-120v-720h720v720H120Zm60-500h600v-160H180v160Zm220 220h160v-160H400v160Zm0 220h160v-160H400v160ZM180-400h160v-160H180v160Zm440 0h160v-160H620v160ZM180-180h160v-160H180v160Zm440 0h160v-160H620v160Z\"/>\n",
              "  </svg>\n",
              "    </button>\n",
              "\n",
              "  <style>\n",
              "    .colab-df-container {\n",
              "      display:flex;\n",
              "      gap: 12px;\n",
              "    }\n",
              "\n",
              "    .colab-df-convert {\n",
              "      background-color: #E8F0FE;\n",
              "      border: none;\n",
              "      border-radius: 50%;\n",
              "      cursor: pointer;\n",
              "      display: none;\n",
              "      fill: #1967D2;\n",
              "      height: 32px;\n",
              "      padding: 0 0 0 0;\n",
              "      width: 32px;\n",
              "    }\n",
              "\n",
              "    .colab-df-convert:hover {\n",
              "      background-color: #E2EBFA;\n",
              "      box-shadow: 0px 1px 2px rgba(60, 64, 67, 0.3), 0px 1px 3px 1px rgba(60, 64, 67, 0.15);\n",
              "      fill: #174EA6;\n",
              "    }\n",
              "\n",
              "    .colab-df-buttons div {\n",
              "      margin-bottom: 4px;\n",
              "    }\n",
              "\n",
              "    [theme=dark] .colab-df-convert {\n",
              "      background-color: #3B4455;\n",
              "      fill: #D2E3FC;\n",
              "    }\n",
              "\n",
              "    [theme=dark] .colab-df-convert:hover {\n",
              "      background-color: #434B5C;\n",
              "      box-shadow: 0px 1px 3px 1px rgba(0, 0, 0, 0.15);\n",
              "      filter: drop-shadow(0px 1px 2px rgba(0, 0, 0, 0.3));\n",
              "      fill: #FFFFFF;\n",
              "    }\n",
              "  </style>\n",
              "\n",
              "    <script>\n",
              "      const buttonEl =\n",
              "        document.querySelector('#df-9044047a-8844-43ef-b989-013d2d2ab41e button.colab-df-convert');\n",
              "      buttonEl.style.display =\n",
              "        google.colab.kernel.accessAllowed ? 'block' : 'none';\n",
              "\n",
              "      async function convertToInteractive(key) {\n",
              "        const element = document.querySelector('#df-9044047a-8844-43ef-b989-013d2d2ab41e');\n",
              "        const dataTable =\n",
              "          await google.colab.kernel.invokeFunction('convertToInteractive',\n",
              "                                                    [key], {});\n",
              "        if (!dataTable) return;\n",
              "\n",
              "        const docLinkHtml = 'Like what you see? Visit the ' +\n",
              "          '<a target=\"_blank\" href=https://colab.research.google.com/notebooks/data_table.ipynb>data table notebook</a>'\n",
              "          + ' to learn more about interactive tables.';\n",
              "        element.innerHTML = '';\n",
              "        dataTable['output_type'] = 'display_data';\n",
              "        await google.colab.output.renderOutput(dataTable, element);\n",
              "        const docLink = document.createElement('div');\n",
              "        docLink.innerHTML = docLinkHtml;\n",
              "        element.appendChild(docLink);\n",
              "      }\n",
              "    </script>\n",
              "  </div>\n",
              "\n",
              "\n",
              "<div id=\"df-142a4e40-0bf8-46fb-bc97-2e4f8c34dc2c\">\n",
              "  <button class=\"colab-df-quickchart\" onclick=\"quickchart('df-142a4e40-0bf8-46fb-bc97-2e4f8c34dc2c')\"\n",
              "            title=\"Suggest charts\"\n",
              "            style=\"display:none;\">\n",
              "\n",
              "<svg xmlns=\"http://www.w3.org/2000/svg\" height=\"24px\"viewBox=\"0 0 24 24\"\n",
              "     width=\"24px\">\n",
              "    <g>\n",
              "        <path d=\"M19 3H5c-1.1 0-2 .9-2 2v14c0 1.1.9 2 2 2h14c1.1 0 2-.9 2-2V5c0-1.1-.9-2-2-2zM9 17H7v-7h2v7zm4 0h-2V7h2v10zm4 0h-2v-4h2v4z\"/>\n",
              "    </g>\n",
              "</svg>\n",
              "  </button>\n",
              "\n",
              "<style>\n",
              "  .colab-df-quickchart {\n",
              "      --bg-color: #E8F0FE;\n",
              "      --fill-color: #1967D2;\n",
              "      --hover-bg-color: #E2EBFA;\n",
              "      --hover-fill-color: #174EA6;\n",
              "      --disabled-fill-color: #AAA;\n",
              "      --disabled-bg-color: #DDD;\n",
              "  }\n",
              "\n",
              "  [theme=dark] .colab-df-quickchart {\n",
              "      --bg-color: #3B4455;\n",
              "      --fill-color: #D2E3FC;\n",
              "      --hover-bg-color: #434B5C;\n",
              "      --hover-fill-color: #FFFFFF;\n",
              "      --disabled-bg-color: #3B4455;\n",
              "      --disabled-fill-color: #666;\n",
              "  }\n",
              "\n",
              "  .colab-df-quickchart {\n",
              "    background-color: var(--bg-color);\n",
              "    border: none;\n",
              "    border-radius: 50%;\n",
              "    cursor: pointer;\n",
              "    display: none;\n",
              "    fill: var(--fill-color);\n",
              "    height: 32px;\n",
              "    padding: 0;\n",
              "    width: 32px;\n",
              "  }\n",
              "\n",
              "  .colab-df-quickchart:hover {\n",
              "    background-color: var(--hover-bg-color);\n",
              "    box-shadow: 0 1px 2px rgba(60, 64, 67, 0.3), 0 1px 3px 1px rgba(60, 64, 67, 0.15);\n",
              "    fill: var(--button-hover-fill-color);\n",
              "  }\n",
              "\n",
              "  .colab-df-quickchart-complete:disabled,\n",
              "  .colab-df-quickchart-complete:disabled:hover {\n",
              "    background-color: var(--disabled-bg-color);\n",
              "    fill: var(--disabled-fill-color);\n",
              "    box-shadow: none;\n",
              "  }\n",
              "\n",
              "  .colab-df-spinner {\n",
              "    border: 2px solid var(--fill-color);\n",
              "    border-color: transparent;\n",
              "    border-bottom-color: var(--fill-color);\n",
              "    animation:\n",
              "      spin 1s steps(1) infinite;\n",
              "  }\n",
              "\n",
              "  @keyframes spin {\n",
              "    0% {\n",
              "      border-color: transparent;\n",
              "      border-bottom-color: var(--fill-color);\n",
              "      border-left-color: var(--fill-color);\n",
              "    }\n",
              "    20% {\n",
              "      border-color: transparent;\n",
              "      border-left-color: var(--fill-color);\n",
              "      border-top-color: var(--fill-color);\n",
              "    }\n",
              "    30% {\n",
              "      border-color: transparent;\n",
              "      border-left-color: var(--fill-color);\n",
              "      border-top-color: var(--fill-color);\n",
              "      border-right-color: var(--fill-color);\n",
              "    }\n",
              "    40% {\n",
              "      border-color: transparent;\n",
              "      border-right-color: var(--fill-color);\n",
              "      border-top-color: var(--fill-color);\n",
              "    }\n",
              "    60% {\n",
              "      border-color: transparent;\n",
              "      border-right-color: var(--fill-color);\n",
              "    }\n",
              "    80% {\n",
              "      border-color: transparent;\n",
              "      border-right-color: var(--fill-color);\n",
              "      border-bottom-color: var(--fill-color);\n",
              "    }\n",
              "    90% {\n",
              "      border-color: transparent;\n",
              "      border-bottom-color: var(--fill-color);\n",
              "    }\n",
              "  }\n",
              "</style>\n",
              "\n",
              "  <script>\n",
              "    async function quickchart(key) {\n",
              "      const quickchartButtonEl =\n",
              "        document.querySelector('#' + key + ' button');\n",
              "      quickchartButtonEl.disabled = true;  // To prevent multiple clicks.\n",
              "      quickchartButtonEl.classList.add('colab-df-spinner');\n",
              "      try {\n",
              "        const charts = await google.colab.kernel.invokeFunction(\n",
              "            'suggestCharts', [key], {});\n",
              "      } catch (error) {\n",
              "        console.error('Error during call to suggestCharts:', error);\n",
              "      }\n",
              "      quickchartButtonEl.classList.remove('colab-df-spinner');\n",
              "      quickchartButtonEl.classList.add('colab-df-quickchart-complete');\n",
              "    }\n",
              "    (() => {\n",
              "      let quickchartButtonEl =\n",
              "        document.querySelector('#df-142a4e40-0bf8-46fb-bc97-2e4f8c34dc2c button');\n",
              "      quickchartButtonEl.style.display =\n",
              "        google.colab.kernel.accessAllowed ? 'block' : 'none';\n",
              "    })();\n",
              "  </script>\n",
              "</div>\n",
              "\n",
              "    </div>\n",
              "  </div>\n"
            ],
            "application/vnd.google.colaboratory.intrinsic+json": {
              "type": "dataframe",
              "variable_name": "df"
            }
          },
          "metadata": {},
          "execution_count": 13
        }
      ]
    },
    {
      "cell_type": "code",
      "source": [
        "df['target'].value_counts()"
      ],
      "metadata": {
        "colab": {
          "base_uri": "https://localhost:8080/"
        },
        "id": "8NbknbmFmqry",
        "outputId": "8d1d70e7-0ee0-4480-8e98-b5530a127420"
      },
      "execution_count": null,
      "outputs": [
        {
          "output_type": "execute_result",
          "data": {
            "text/plain": [
              "target\n",
              "0    94542\n",
              "1     5458\n",
              "Name: count, dtype: int64"
            ]
          },
          "metadata": {},
          "execution_count": 14
        }
      ]
    },
    {
      "cell_type": "code",
      "source": [
        "\n",
        "# Split the dataset into majority and minority classes\n",
        "majority_df = df[df['target'] == 0]\n",
        "minority_df = df[df['target'] == 1]"
      ],
      "metadata": {
        "id": "OiLZRdApmuSF"
      },
      "execution_count": null,
      "outputs": []
    },
    {
      "cell_type": "code",
      "source": [
        "# Apply random undersampling to the majority class\n",
        "undersampled_majority_df = majority_df.sample(n=minority_df.shape[0], random_state=42)\n",
        "\n",
        "# Combine the undersampled majority class with the minority class\n",
        "undersampled_df = pd.concat([undersampled_majority_df, minority_df])\n",
        "\n",
        "# Shuffle the resulting DataFrame to avoid any order bias\n",
        "undersampled_df = shuffle(undersampled_df, random_state=42)\n"
      ],
      "metadata": {
        "id": "60o_g1ZDm0Ie"
      },
      "execution_count": null,
      "outputs": []
    },
    {
      "cell_type": "code",
      "source": [
        "undersampled_df['target'].value_counts()"
      ],
      "metadata": {
        "colab": {
          "base_uri": "https://localhost:8080/"
        },
        "id": "pAuZ7HwNnML-",
        "outputId": "bb531c5f-a591-44b9-c105-d3d630e31c2f"
      },
      "execution_count": null,
      "outputs": [
        {
          "output_type": "execute_result",
          "data": {
            "text/plain": [
              "target\n",
              "0    5458\n",
              "1    5458\n",
              "Name: count, dtype: int64"
            ]
          },
          "metadata": {},
          "execution_count": 17
        }
      ]
    },
    {
      "cell_type": "code",
      "source": [
        "X = undersampled_df.drop(columns=['target'])\n",
        "y = undersampled_df['target']\n",
        "\n",
        "# Split into training and testing sets\n",
        "X_train, X_test, y_train, y_test = train_test_split(X, y, test_size=0.3, random_state=42)\n"
      ],
      "metadata": {
        "id": "2AYV_jw9nPpK"
      },
      "execution_count": null,
      "outputs": []
    },
    {
      "cell_type": "code",
      "source": [
        "# Train a simple logistic regression model\n",
        "model = LogisticRegression(solver='liblinear')\n",
        "model.fit(X_train, y_train)\n",
        "\n",
        "# Make predictions\n",
        "y_pred = model.predict(X_test)\n",
        "\n",
        "# Evaluate the model\n",
        "accuracy = accuracy_score(y_test, y_pred)\n",
        "confusion = confusion_matrix(y_test, y_pred)\n",
        "classification_report_str = classification_report(y_test, y_pred)"
      ],
      "metadata": {
        "id": "iPD6eUSSnppr"
      },
      "execution_count": null,
      "outputs": []
    },
    {
      "cell_type": "code",
      "source": [
        "# Display results\n",
        "print(\"Accuracy:\", accuracy)"
      ],
      "metadata": {
        "colab": {
          "base_uri": "https://localhost:8080/"
        },
        "id": "2pt9ejnPnybv",
        "outputId": "98224ab2-588b-471a-d4f8-5f74fdb40b03"
      },
      "execution_count": null,
      "outputs": [
        {
          "output_type": "stream",
          "name": "stdout",
          "text": [
            "Accuracy: 0.8290076335877863\n"
          ]
        }
      ]
    },
    {
      "cell_type": "code",
      "source": [
        "confusion"
      ],
      "metadata": {
        "colab": {
          "base_uri": "https://localhost:8080/"
        },
        "id": "bWjrpZ2Ln04u",
        "outputId": "4d412f1c-2160-4966-aab7-bbcab7393134"
      },
      "execution_count": null,
      "outputs": [
        {
          "output_type": "execute_result",
          "data": {
            "text/plain": [
              "array([[1358,  262],\n",
              "       [ 298, 1357]])"
            ]
          },
          "metadata": {},
          "execution_count": 23
        }
      ]
    },
    {
      "cell_type": "code",
      "source": [
        "print(classification_report(y_test, y_pred))"
      ],
      "metadata": {
        "colab": {
          "base_uri": "https://localhost:8080/"
        },
        "id": "hhnCU0SEn3NI",
        "outputId": "b4f11952-4a81-48dd-c91b-cb5519170ab4"
      },
      "execution_count": null,
      "outputs": [
        {
          "output_type": "stream",
          "name": "stdout",
          "text": [
            "              precision    recall  f1-score   support\n",
            "\n",
            "           0       0.82      0.84      0.83      1620\n",
            "           1       0.84      0.82      0.83      1655\n",
            "\n",
            "    accuracy                           0.83      3275\n",
            "   macro avg       0.83      0.83      0.83      3275\n",
            "weighted avg       0.83      0.83      0.83      3275\n",
            "\n"
          ]
        }
      ]
    },
    {
      "cell_type": "markdown",
      "source": [
        "### Using Imbalanced Learn"
      ],
      "metadata": {
        "id": "HVbi4gH3oPNz"
      }
    },
    {
      "cell_type": "code",
      "source": [
        "import numpy as np\n",
        "import pandas as pd\n",
        "from imblearn.under_sampling import RandomUnderSampler\n",
        "from sklearn.datasets import make_classification\n",
        "from sklearn.model_selection import train_test_split\n",
        "from collections import Counter\n",
        "\n",
        "# Create a synthetic dataset with imbalance\n",
        "X, y = make_classification(\n",
        "    n_samples=100000,\n",
        "    n_features=20,\n",
        "    weights=[0.95, 0.05],  # Class imbalance\n",
        "    random_state=42\n",
        ")\n",
        "\n",
        "# Check the original class distribution\n",
        "print(\"Original class distribution:\", Counter(y))\n"
      ],
      "metadata": {
        "colab": {
          "base_uri": "https://localhost:8080/"
        },
        "id": "z6xgYDOToOQC",
        "outputId": "238e766b-731c-40e5-c4e5-11ca29558b7b"
      },
      "execution_count": null,
      "outputs": [
        {
          "output_type": "stream",
          "name": "stdout",
          "text": [
            "Original class distribution: Counter({0: 94542, 1: 5458})\n"
          ]
        }
      ]
    },
    {
      "cell_type": "code",
      "source": [
        "# Use RandomUnderSampler to balance the dataset\n",
        "undersampler = RandomUnderSampler(sampling_strategy='auto', random_state=42)\n",
        "X_resampled, y_resampled = undersampler.fit_resample(X, y)\n",
        "\n",
        "# Check the new class distribution after undersampling\n",
        "print(\"New class distribution after undersampling:\", Counter(y_resampled))"
      ],
      "metadata": {
        "colab": {
          "base_uri": "https://localhost:8080/"
        },
        "id": "UE-eVSdHn5bm",
        "outputId": "0d191444-ae38-4f1b-c087-1362a2349af3"
      },
      "execution_count": null,
      "outputs": [
        {
          "output_type": "stream",
          "name": "stdout",
          "text": [
            "New class distribution after undersampling: Counter({0: 5458, 1: 5458})\n"
          ]
        }
      ]
    },
    {
      "cell_type": "code",
      "source": [
        "X_train, X_test, y_train, y_test = train_test_split(X_resampled, y_resampled, test_size=0.3, random_state=42)"
      ],
      "metadata": {
        "id": "1vS8eVwEoYqe"
      },
      "execution_count": null,
      "outputs": []
    },
    {
      "cell_type": "code",
      "source": [
        "# Train a simple logistic regression model\n",
        "model = LogisticRegression(solver='liblinear')\n",
        "model.fit(X_train, y_train)\n",
        "\n",
        "# Make predictions\n",
        "y_pred = model.predict(X_test)\n",
        "\n",
        "# Evaluate the model\n",
        "accuracy = accuracy_score(y_test, y_pred)\n",
        "confusion = confusion_matrix(y_test, y_pred)\n",
        "classification_report_str = classification_report(y_test, y_pred)"
      ],
      "metadata": {
        "id": "MoYtr67-ogLI"
      },
      "execution_count": null,
      "outputs": []
    },
    {
      "cell_type": "code",
      "source": [
        "print(classification_report_str)"
      ],
      "metadata": {
        "colab": {
          "base_uri": "https://localhost:8080/"
        },
        "id": "w0FQYx1-oihZ",
        "outputId": "024aa9bd-44a6-4271-b104-0ccd135cf8b8"
      },
      "execution_count": null,
      "outputs": [
        {
          "output_type": "stream",
          "name": "stdout",
          "text": [
            "              precision    recall  f1-score   support\n",
            "\n",
            "           0       0.82      0.82      0.82      1648\n",
            "           1       0.82      0.82      0.82      1627\n",
            "\n",
            "    accuracy                           0.82      3275\n",
            "   macro avg       0.82      0.82      0.82      3275\n",
            "weighted avg       0.82      0.82      0.82      3275\n",
            "\n"
          ]
        }
      ]
    },
    {
      "cell_type": "markdown",
      "source": [
        "### Oversampling"
      ],
      "metadata": {
        "id": "y5Er8Blduk4F"
      }
    },
    {
      "cell_type": "code",
      "source": [
        "import numpy as np\n",
        "import pandas as pd\n",
        "from sklearn.datasets import make_classification\n",
        "from collections import Counter\n",
        "from sklearn.utils import shuffle\n",
        "\n",
        "# Create the imbalanced dataset\n",
        "X, y = make_classification(\n",
        "    n_samples=100000,\n",
        "    n_features=20,\n",
        "    weights=[0.95, 0.05],  # Class imbalance\n",
        "    random_state=42\n",
        ")\n",
        "\n",
        "# Convert the data into a DataFrame\n",
        "df = pd.DataFrame(X)\n",
        "df['target'] = y\n",
        "\n",
        "# Check the original class distribution\n",
        "print(\"Original class distribution:\", Counter(y))\n",
        "\n"
      ],
      "metadata": {
        "colab": {
          "base_uri": "https://localhost:8080/"
        },
        "id": "p1Ssf3MJokz9",
        "outputId": "51a97ff1-8b4b-42e0-8070-d8cd046ea16c"
      },
      "execution_count": null,
      "outputs": [
        {
          "output_type": "stream",
          "name": "stdout",
          "text": [
            "Original class distribution: Counter({0: 94542, 1: 5458})\n"
          ]
        }
      ]
    },
    {
      "cell_type": "code",
      "source": [
        "# Split the data into majority and minority classes\n",
        "majority_class = df[df['target'] == 0]\n",
        "minority_class = df[df['target'] == 1]\n",
        "\n",
        "# Determine the number of samples to add to the minority class\n",
        "samples_needed = len(majority_class) - len(minority_class)\n",
        "\n",
        "samples_needed"
      ],
      "metadata": {
        "colab": {
          "base_uri": "https://localhost:8080/"
        },
        "id": "ka4OYE6IvXt8",
        "outputId": "9f419c06-1f05-469e-d89c-e2f1b4286eb9"
      },
      "execution_count": null,
      "outputs": [
        {
          "output_type": "execute_result",
          "data": {
            "text/plain": [
              "89084"
            ]
          },
          "metadata": {},
          "execution_count": 38
        }
      ]
    },
    {
      "cell_type": "code",
      "source": [
        "# Apply random oversampling to the minority class to match the majority class\n",
        "adjusted_oversampling = minority_class.sample(\n",
        "    n=samples_needed,\n",
        "    replace=True,  # Sampling with replacement\n",
        "    random_state=42\n",
        ")\n",
        "\n",
        "# Combine the majority class with the adjusted oversampling\n",
        "balanced_df = pd.concat([majority_class, adjusted_oversampling])\n",
        "\n",
        "# Shuffle the resulting DataFrame to avoid order bias\n",
        "balanced_df = shuffle(balanced_df, random_state=42)\n",
        "\n",
        "# Check the new class distribution after oversampling\n",
        "new_class_distribution = Counter(balanced_df['target'])\n",
        "print(\"New class distribution after oversampling:\", new_class_distribution)"
      ],
      "metadata": {
        "colab": {
          "base_uri": "https://localhost:8080/"
        },
        "id": "u83Fg52_vbRf",
        "outputId": "8d2ce018-562b-456c-f17b-4c7d867cf100"
      },
      "execution_count": null,
      "outputs": [
        {
          "output_type": "stream",
          "name": "stdout",
          "text": [
            "New class distribution after oversampling: Counter({0: 94542, 1: 89084})\n"
          ]
        }
      ]
    },
    {
      "cell_type": "code",
      "source": [
        "X = balanced_df.drop(columns=['target'])\n",
        "y = balanced_df['target']\n",
        "\n",
        "# Split into training and testing sets\n",
        "X_train, X_test, y_train, y_test = train_test_split(X, y, test_size=0.3, random_state=42)\n"
      ],
      "metadata": {
        "id": "kurp4-4WvgFV"
      },
      "execution_count": null,
      "outputs": []
    },
    {
      "cell_type": "code",
      "source": [
        "# Train a simple logistic regression model\n",
        "model = LogisticRegression(solver='liblinear')\n",
        "model.fit(X_train, y_train)\n",
        "\n",
        "# Make predictions\n",
        "y_pred = model.predict(X_test)\n",
        "\n",
        "# Evaluate the model\n",
        "accuracy = accuracy_score(y_test, y_pred)\n",
        "confusion = confusion_matrix(y_test, y_pred)\n",
        "classification_report_str = classification_report(y_test, y_pred)"
      ],
      "metadata": {
        "id": "r3rwyycdwQx7"
      },
      "execution_count": null,
      "outputs": []
    },
    {
      "cell_type": "code",
      "source": [
        "print(classification_report_str)"
      ],
      "metadata": {
        "colab": {
          "base_uri": "https://localhost:8080/"
        },
        "id": "mk67rbF5wUbQ",
        "outputId": "90a9b09d-b76c-4e83-c28a-c8b939dad2f8"
      },
      "execution_count": null,
      "outputs": [
        {
          "output_type": "stream",
          "name": "stdout",
          "text": [
            "              precision    recall  f1-score   support\n",
            "\n",
            "           0       0.83      0.85      0.84     28507\n",
            "           1       0.83      0.82      0.82     26581\n",
            "\n",
            "    accuracy                           0.83     55088\n",
            "   macro avg       0.83      0.83      0.83     55088\n",
            "weighted avg       0.83      0.83      0.83     55088\n",
            "\n"
          ]
        }
      ]
    },
    {
      "cell_type": "markdown",
      "source": [
        "### Oversampling using Imbalanced Learn"
      ],
      "metadata": {
        "id": "hqhes_-vwkUp"
      }
    },
    {
      "cell_type": "code",
      "source": [
        "from imblearn.over_sampling import RandomOverSampler\n",
        "from sklearn.datasets import make_classification\n",
        "from collections import Counter\n",
        "\n",
        "# Create an imbalanced dataset\n",
        "X, y = make_classification(\n",
        "    n_samples=100000,\n",
        "    n_features=20,\n",
        "    weights=[0.95, 0.05],  # Class imbalance\n",
        "    random_state=42\n",
        ")\n",
        "\n",
        "# Check the original class distribution\n",
        "original_class_distribution = Counter(y)\n",
        "print(\"Original class distribution:\", original_class_distribution)\n",
        "\n",
        "# Initialize RandomOverSampler\n",
        "oversampler = RandomOverSampler(sampling_strategy='auto', random_state=42)\n",
        "\n",
        "# Apply random oversampling to balance the dataset\n",
        "X_oversampled, y_oversampled = oversampler.fit_resample(X, y)\n",
        "\n",
        "# Check the new class distribution after oversampling\n",
        "new_class_distribution = Counter(y_oversampled)\n",
        "print(\"New class distribution after oversampling:\", new_class_distribution)\n"
      ],
      "metadata": {
        "colab": {
          "base_uri": "https://localhost:8080/"
        },
        "id": "-2FhV-NDwW1e",
        "outputId": "c1111126-b10a-4d59-b6e9-c310f7d3ca5d"
      },
      "execution_count": null,
      "outputs": [
        {
          "output_type": "stream",
          "name": "stdout",
          "text": [
            "Original class distribution: Counter({0: 94542, 1: 5458})\n",
            "New class distribution after oversampling: Counter({0: 94542, 1: 94542})\n"
          ]
        }
      ]
    },
    {
      "cell_type": "code",
      "source": [
        "X_train, X_test, y_train, y_test = train_test_split(X_oversampled, y_oversampled, test_size=0.3, random_state=42)"
      ],
      "metadata": {
        "id": "Rf08Xoyzw0w2"
      },
      "execution_count": null,
      "outputs": []
    },
    {
      "cell_type": "code",
      "source": [
        "# Train a simple logistic regression model\n",
        "model = LogisticRegression(solver='liblinear')\n",
        "model.fit(X_train, y_train)\n",
        "\n",
        "# Make predictions\n",
        "y_pred = model.predict(X_test)\n",
        "\n",
        "# Evaluate the model\n",
        "accuracy = accuracy_score(y_test, y_pred)\n",
        "confusion = confusion_matrix(y_test, y_pred)\n",
        "classification_report_str = classification_report(y_test, y_pred)\n",
        "\n",
        "print(classification_report_str)"
      ],
      "metadata": {
        "colab": {
          "base_uri": "https://localhost:8080/"
        },
        "id": "7e7RcHNsw5oE",
        "outputId": "ec5078da-50b3-4cf1-cb64-1ad12480857d"
      },
      "execution_count": null,
      "outputs": [
        {
          "output_type": "stream",
          "name": "stdout",
          "text": [
            "              precision    recall  f1-score   support\n",
            "\n",
            "           0       0.82      0.85      0.84     28347\n",
            "           1       0.84      0.82      0.83     28379\n",
            "\n",
            "    accuracy                           0.83     56726\n",
            "   macro avg       0.83      0.83      0.83     56726\n",
            "weighted avg       0.83      0.83      0.83     56726\n",
            "\n"
          ]
        }
      ]
    },
    {
      "cell_type": "markdown",
      "source": [
        "### SMOTE"
      ],
      "metadata": {
        "id": "nEwhNFnV6z2N"
      }
    },
    {
      "cell_type": "code",
      "source": [
        "from sklearn.datasets import make_classification\n",
        "from imblearn.over_sampling import SMOTE\n",
        "from collections import Counter\n",
        "import matplotlib.pyplot as plt\n",
        "\n",
        "# Generate an imbalanced dataset\n",
        "X, y = make_classification(\n",
        "    n_samples=100000,\n",
        "    n_features=20,\n",
        "    weights=[0.95, 0.05],  # Class imbalance\n",
        "    random_state=42\n",
        ")\n",
        "\n",
        "# Check the original class distribution\n",
        "original_class_distribution = Counter(y)\n",
        "print(\"Original class distribution:\", original_class_distribution)\n",
        "\n",
        "# Apply SMOTE to balance the dataset\n",
        "smote = SMOTE(sampling_strategy='auto', random_state=42)  # Auto adjusts to balance the dataset\n",
        "X_smote, y_smote = smote.fit_resample(X, y)\n",
        "\n",
        "# Check the new class distribution after SMOTE\n",
        "new_class_distribution = Counter(y_smote)\n",
        "print(\"New class distribution after SMOTE:\", new_class_distribution)\n",
        "\n"
      ],
      "metadata": {
        "colab": {
          "base_uri": "https://localhost:8080/"
        },
        "id": "WffOANfKw-kK",
        "outputId": "1011c4a6-8792-4482-9e80-00fdcd8f4109"
      },
      "execution_count": null,
      "outputs": [
        {
          "output_type": "stream",
          "name": "stdout",
          "text": [
            "Original class distribution: Counter({0: 94542, 1: 5458})\n",
            "New class distribution after SMOTE: Counter({0: 94542, 1: 94542})\n"
          ]
        }
      ]
    },
    {
      "cell_type": "code",
      "source": [
        "X_train, X_test, y_train, y_test = train_test_split(X_smote, y_smote, test_size=0.3, random_state=42)"
      ],
      "metadata": {
        "id": "qawvcs8I7HKN"
      },
      "execution_count": null,
      "outputs": []
    },
    {
      "cell_type": "code",
      "source": [
        "# Train a simple logistic regression model\n",
        "model = LogisticRegression(solver='liblinear')\n",
        "model.fit(X_train, y_train)\n",
        "\n",
        "# Make predictions\n",
        "y_pred = model.predict(X_test)\n",
        "\n",
        "# Evaluate the model\n",
        "accuracy = accuracy_score(y_test, y_pred)\n",
        "confusion = confusion_matrix(y_test, y_pred)\n",
        "classification_report_str = classification_report(y_test, y_pred)\n",
        "\n",
        "print(classification_report_str)"
      ],
      "metadata": {
        "colab": {
          "base_uri": "https://localhost:8080/"
        },
        "id": "MA8dkLuq7Q2Z",
        "outputId": "789b7332-db09-45d2-da76-c7ea6b60652b"
      },
      "execution_count": null,
      "outputs": [
        {
          "output_type": "stream",
          "name": "stdout",
          "text": [
            "              precision    recall  f1-score   support\n",
            "\n",
            "           0       0.84      0.85      0.84     28347\n",
            "           1       0.85      0.84      0.84     28379\n",
            "\n",
            "    accuracy                           0.84     56726\n",
            "   macro avg       0.84      0.84      0.84     56726\n",
            "weighted avg       0.84      0.84      0.84     56726\n",
            "\n"
          ]
        }
      ]
    },
    {
      "cell_type": "markdown",
      "source": [
        "### Class Weighting"
      ],
      "metadata": {
        "id": "f7Ns7xg_BdZg"
      }
    },
    {
      "cell_type": "code",
      "source": [
        "from sklearn.datasets import make_classification\n",
        "from sklearn.model_selection import train_test_split\n",
        "from sklearn.linear_model import LogisticRegression\n",
        "from sklearn.metrics import classification_report\n",
        "\n",
        "# Generate the imbalanced dataset\n",
        "X, y = make_classification(\n",
        "    n_samples=100000,\n",
        "    n_features=20,\n",
        "    weights=[0.95, 0.05],  # Class imbalance\n",
        "    random_state=42\n",
        ")\n",
        "\n",
        "# Split the data into train and test sets\n",
        "X_train, X_test, y_train, y_test = train_test_split(X, y, test_size=0.2, random_state=42)\n",
        "\n",
        "# Define class weights\n",
        "class_weights = {0: 1, 1: 19}  # Assigning a higher weight to the minority class\n",
        "\n",
        "# Initialize and train Logistic Regression model with class weighting\n",
        "model = LogisticRegression(class_weight=class_weights)\n",
        "model.fit(X_train, y_train)\n",
        "\n",
        "# Make predictions on the test set\n",
        "y_pred = model.predict(X_test)\n",
        "\n",
        "# Evaluate the model\n",
        "print(\"Classification Report:\")\n",
        "print(classification_report(y_test, y_pred))\n"
      ],
      "metadata": {
        "colab": {
          "base_uri": "https://localhost:8080/"
        },
        "id": "S8mLm2kF7TZN",
        "outputId": "7803f1d6-4169-4a49-8e51-d512500e0606"
      },
      "execution_count": null,
      "outputs": [
        {
          "output_type": "stream",
          "name": "stdout",
          "text": [
            "Classification Report:\n",
            "              precision    recall  f1-score   support\n",
            "\n",
            "           0       0.99      0.83      0.90     18886\n",
            "           1       0.22      0.84      0.35      1114\n",
            "\n",
            "    accuracy                           0.83     20000\n",
            "   macro avg       0.61      0.83      0.63     20000\n",
            "weighted avg       0.95      0.83      0.87     20000\n",
            "\n"
          ]
        }
      ]
    },
    {
      "cell_type": "markdown",
      "source": [
        "### Balanced Random Forest"
      ],
      "metadata": {
        "id": "03EnV6orEqbD"
      }
    },
    {
      "cell_type": "code",
      "source": [
        "from sklearn.datasets import make_classification\n",
        "from sklearn.model_selection import train_test_split\n",
        "from sklearn.linear_model import LogisticRegression\n",
        "from sklearn.metrics import classification_report\n",
        "\n",
        "# Generate the imbalanced dataset\n",
        "X, y = make_classification(\n",
        "    n_samples=100000,\n",
        "    n_features=20,\n",
        "    weights=[0.95, 0.05],  # Class imbalance\n",
        "    random_state=42\n",
        ")\n",
        "\n",
        "# Split the data into train and test sets\n",
        "X_train, X_test, y_train, y_test = train_test_split(X, y, test_size=0.2, random_state=42)\n"
      ],
      "metadata": {
        "id": "Hrp6r_WvEylV"
      },
      "execution_count": null,
      "outputs": []
    },
    {
      "cell_type": "code",
      "source": [
        "from imblearn.ensemble import BalancedRandomForestClassifier\n",
        "brf = BalancedRandomForestClassifier(\n",
        "    n_estimators=100, random_state=0, sampling_strategy=\"all\", replacement=True,\n",
        "    bootstrap=False,\n",
        ")\n",
        "brf.fit(X_train, y_train)\n",
        "y_pred = brf.predict(X_test)"
      ],
      "metadata": {
        "id": "ONubD0qtCpfE"
      },
      "execution_count": null,
      "outputs": []
    },
    {
      "cell_type": "code",
      "source": [
        "# Evaluate the model\n",
        "print(\"Classification Report:\")\n",
        "print(classification_report(y_test, y_pred))"
      ],
      "metadata": {
        "colab": {
          "base_uri": "https://localhost:8080/"
        },
        "id": "K4DVwvyhE9wt",
        "outputId": "99fec02a-4f51-47d2-ee2a-bd561721e00b"
      },
      "execution_count": null,
      "outputs": [
        {
          "output_type": "stream",
          "name": "stdout",
          "text": [
            "Classification Report:\n",
            "              precision    recall  f1-score   support\n",
            "\n",
            "           0       0.98      0.90      0.94     18886\n",
            "           1       0.31      0.76      0.44      1114\n",
            "\n",
            "    accuracy                           0.89     20000\n",
            "   macro avg       0.65      0.83      0.69     20000\n",
            "weighted avg       0.95      0.89      0.91     20000\n",
            "\n"
          ]
        }
      ]
    },
    {
      "cell_type": "code",
      "source": [],
      "metadata": {
        "id": "TsNA7-OEFV-T"
      },
      "execution_count": null,
      "outputs": []
    }
  ]
}